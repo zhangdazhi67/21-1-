{
 "cells": [
  {
   "cell_type": "code",
   "execution_count": 1,
   "id": "8be53cbe-c499-497b-b579-b7723837c57c",
   "metadata": {},
   "outputs": [],
   "source": [
    "import torch\n",
    "def func(x):\n",
    "    return x**2+x+1"
   ]
  },
  {
   "cell_type": "code",
   "execution_count": 2,
   "id": "e94590cc-964c-4bc4-898a-40f64e82ba20",
   "metadata": {},
   "outputs": [],
   "source": [
    "x = torch.tensor(1.0,requires_grad=True)"
   ]
  },
  {
   "cell_type": "code",
   "execution_count": 3,
   "id": "1b0401fb-d279-4e40-ad25-79fbcb3c1b70",
   "metadata": {},
   "outputs": [],
   "source": [
    "y = func(x)"
   ]
  },
  {
   "cell_type": "code",
   "execution_count": 4,
   "id": "c20258c4-9022-43ab-b672-b7007ccf7507",
   "metadata": {},
   "outputs": [],
   "source": [
    "y.backward()"
   ]
  },
  {
   "cell_type": "code",
   "execution_count": 5,
   "id": "1d604d29-5d99-44a7-a816-72c0aaa37ba2",
   "metadata": {},
   "outputs": [
    {
     "data": {
      "text/plain": [
       "tensor(3.)"
      ]
     },
     "execution_count": 5,
     "metadata": {},
     "output_type": "execute_result"
    }
   ],
   "source": [
    "x.grad"
   ]
  },
  {
   "cell_type": "code",
   "execution_count": 6,
   "id": "0af78fa3-76fd-41df-8c25-b2ddb2bb112b",
   "metadata": {},
   "outputs": [],
   "source": [
    "import torch\n",
    "def func(x):\n",
    "    return (x**2).sum()"
   ]
  },
  {
   "cell_type": "code",
   "execution_count": 7,
   "id": "aa45a0fd-6824-423e-bca3-04728f7bf0c2",
   "metadata": {},
   "outputs": [],
   "source": [
    "x = torch.tensor([0.0,1.0],requires_grad=True)"
   ]
  },
  {
   "cell_type": "code",
   "execution_count": 8,
   "id": "b9c01493-93cb-4bda-a82a-52c6f31cc432",
   "metadata": {},
   "outputs": [],
   "source": [
    "y = func(x)"
   ]
  },
  {
   "cell_type": "code",
   "execution_count": 9,
   "id": "ca8537d0-c09f-4ab6-8721-febacc6fd856",
   "metadata": {},
   "outputs": [],
   "source": [
    "y.backward()"
   ]
  },
  {
   "cell_type": "code",
   "execution_count": 10,
   "id": "f98c607f-ba0c-412a-9169-5451de5a0b95",
   "metadata": {},
   "outputs": [
    {
     "data": {
      "text/plain": [
       "tensor([0., 2.])"
      ]
     },
     "execution_count": 10,
     "metadata": {},
     "output_type": "execute_result"
    }
   ],
   "source": [
    "x.grad"
   ]
  },
  {
   "cell_type": "markdown",
   "id": "660becee-9793-4db8-9952-e4c024e4d31a",
   "metadata": {},
   "source": [
    "平时作业-求二元函数的偏导数"
   ]
  },
  {
   "cell_type": "code",
   "execution_count": 19,
   "id": "98cc23ad-12bf-4220-b670-167a1accb5d9",
   "metadata": {},
   "outputs": [],
   "source": [
    "import torch\n",
    "\n",
    "x = torch.tensor(0.0, requires_grad=True)\n",
    "y = torch.tensor(1.0, requires_grad=True)"
   ]
  },
  {
   "cell_type": "code",
   "execution_count": 20,
   "id": "97f8e37b-0646-4427-b5b4-bcc53f0242ac",
   "metadata": {},
   "outputs": [],
   "source": [
    "z =  x ** 2 + y ** 2"
   ]
  },
  {
   "cell_type": "code",
   "execution_count": 22,
   "id": "d7ef7d32-c08b-423a-959e-7212f7487e56",
   "metadata": {},
   "outputs": [
    {
     "data": {
      "text/plain": [
       "tensor(0.)"
      ]
     },
     "execution_count": 22,
     "metadata": {},
     "output_type": "execute_result"
    }
   ],
   "source": [
    "z.backward()\n",
    "x.grad"
   ]
  },
  {
   "cell_type": "code",
   "execution_count": 23,
   "id": "fd029757-7832-4944-a5ff-58dd582faa6f",
   "metadata": {},
   "outputs": [
    {
     "data": {
      "text/plain": [
       "tensor(2.)"
      ]
     },
     "execution_count": 23,
     "metadata": {},
     "output_type": "execute_result"
    }
   ],
   "source": [
    "y.grad"
   ]
  },
  {
   "cell_type": "markdown",
   "id": "ba34355b-ccb5-4f33-9f2d-a97ab07aec04",
   "metadata": {},
   "source": [
    "使用torch张量自行实现sigmoid激活函数，并计算在它在x=0点处的导数。"
   ]
  },
  {
   "cell_type": "code",
   "execution_count": 24,
   "id": "ba648968-2088-4ece-8a22-a6c0d13e4d0c",
   "metadata": {},
   "outputs": [
    {
     "name": "stdout",
     "output_type": "stream",
     "text": [
      "The derivative of sigmoid at x = 0 is: 0.25\n"
     ]
    }
   ],
   "source": [
    "import torch\n",
    "\n",
    "\n",
    "def sigmoid(x):\n",
    "    return 1 / (1 + torch.exp(-x))\n",
    "\n",
    "\n",
    "x = torch.tensor(0.0, requires_grad=True)\n",
    "y = sigmoid(x)\n",
    "y.backward()\n",
    "derivative_at_0 = x.grad\n",
    "print(\"The derivative of sigmoid at x = 0 is:\", derivative_at_0.item())"
   ]
  },
  {
   "cell_type": "code",
   "execution_count": 1,
   "id": "3c08f3b4-a528-47aa-995e-d2b116cd91fa",
   "metadata": {},
   "outputs": [],
   "source": [
    "import torch\n",
    "\n",
    "def sin(x):\n",
    "    return torch.sin(x)"
   ]
  },
  {
   "cell_type": "code",
   "execution_count": 2,
   "id": "acd1c178-0b98-4629-8ff3-25bc4c640967",
   "metadata": {},
   "outputs": [],
   "source": [
    "x1 = torch.tensor(2.0, requires_grad=True)\n",
    "x2 = torch.tensor(5.0, requires_grad=True)"
   ]
  },
  {
   "cell_type": "code",
   "execution_count": 3,
   "id": "ccf66a22-8154-4447-bd0e-9d22af935fa2",
   "metadata": {},
   "outputs": [],
   "source": [
    "v_minus_1 = x1\n",
    "v0 = x2\n",
    "v1 = torch.log(v_minus_1)\n",
    "v2 = v_minus_1*v0\n",
    "v3 = sin(v0)\n",
    "v4 = v1+v2\n",
    "v5 = v4-v3"
   ]
  },
  {
   "cell_type": "code",
   "execution_count": 14,
   "id": "cfc836d6-225e-4934-93b7-62369ed46198",
   "metadata": {},
   "outputs": [],
   "source": [
    "if x1.grad is not None:\n",
    "    x1.grad.zero_()\n",
    "else:\n",
    "    x1.grad = torch.tensor(0.0)\n",
    "if x2.grad is not None:\n",
    "    x2.grad.zero_()\n",
    "else:\n",
    "    x2.grad = torch.tensor(0.0)\n",
    "\n",
    "v3.backward(retain_graph=True)"
   ]
  },
  {
   "cell_type": "code",
   "execution_count": 17,
   "id": "4602ee0d-3c42-436d-b43b-444c2433794b",
   "metadata": {},
   "outputs": [],
   "source": [
    "node_dict = {\"v_minus_1\":v_minus_1,\"v0\":v0,\"v1\":v1,\"v2\":v2,\"v3\":v3,\"v4\":v4,\"v5\":v5}"
   ]
  },
  {
   "cell_type": "code",
   "execution_count": 18,
   "id": "7c9287a2-904a-4d90-a11b-8dbd5160f948",
   "metadata": {},
   "outputs": [],
   "source": [
    "var_dict = {\"x1\":x1,\"x2\":x2}"
   ]
  },
  {
   "cell_type": "code",
   "execution_count": 28,
   "id": "46e14636-0f9e-4478-85c6-9719a08fb3fe",
   "metadata": {},
   "outputs": [
    {
     "name": "stdout",
     "output_type": "stream",
     "text": [
      "x1对{'x1': tensor(2., requires_grad=True), 'x2': tensor(5., requires_grad=True)}的导数: tensor(1.)\n",
      "x2对{'x1': tensor(2., requires_grad=True), 'x2': tensor(5., requires_grad=True)}的导数: tensor(0.)\n",
      "x1对{'x1': tensor(2., requires_grad=True), 'x2': tensor(5., requires_grad=True)}的导数: tensor(0.)\n",
      "x2对{'x1': tensor(2., requires_grad=True), 'x2': tensor(5., requires_grad=True)}的导数: tensor(1.)\n",
      "x1对{'x1': tensor(2., requires_grad=True), 'x2': tensor(5., requires_grad=True)}的导数: tensor(0.5000)\n",
      "x2对{'x1': tensor(2., requires_grad=True), 'x2': tensor(5., requires_grad=True)}的导数: tensor(0.)\n",
      "x1对{'x1': tensor(2., requires_grad=True), 'x2': tensor(5., requires_grad=True)}的导数: tensor(5.)\n",
      "x2对{'x1': tensor(2., requires_grad=True), 'x2': tensor(5., requires_grad=True)}的导数: tensor(2.)\n",
      "x1对{'x1': tensor(2., requires_grad=True), 'x2': tensor(5., requires_grad=True)}的导数: tensor(0.)\n",
      "x2对{'x1': tensor(2., requires_grad=True), 'x2': tensor(5., requires_grad=True)}的导数: tensor(0.2837)\n",
      "x1对{'x1': tensor(2., requires_grad=True), 'x2': tensor(5., requires_grad=True)}的导数: tensor(5.5000)\n",
      "x2对{'x1': tensor(2., requires_grad=True), 'x2': tensor(5., requires_grad=True)}的导数: tensor(2.)\n",
      "x1对{'x1': tensor(2., requires_grad=True), 'x2': tensor(5., requires_grad=True)}的导数: tensor(5.5000)\n",
      "x2对{'x1': tensor(2., requires_grad=True), 'x2': tensor(5., requires_grad=True)}的导数: tensor(1.7163)\n"
     ]
    }
   ],
   "source": [
    "for node_name in node_dict:\n",
    "    for var_name in var_dict:\n",
    "        if x1.grad is not None:\n",
    "            x1.grad.zero_()\n",
    "        else:\n",
    "            x1.grad = torch.tensor(0.0)\n",
    "        if x2.grad is not None:\n",
    "            x2.grad.zero_()\n",
    "        else:\n",
    "            x2.grad = torch.tensor(0.0)\n",
    "\n",
    "        node_dict[node_name].backward(retain_graph=True)\n",
    "        print(f\"{var_name}对{var_dict}的导数:\",var_dict[var_name].grad)\n"
   ]
  },
  {
   "cell_type": "code",
   "execution_count": 15,
   "id": "5592f384-5fe7-450f-b8b0-f0e54be1e9c8",
   "metadata": {},
   "outputs": [
    {
     "name": "stdout",
     "output_type": "stream",
     "text": [
      "v3对x2的导数: tensor(0.2837)\n",
      "v3对x1的导数: tensor(0.)\n"
     ]
    }
   ],
   "source": [
    "print(\"v3对x2的导数:\",x2.grad)\n",
    "print(\"v3对x1的导数:\",x1.grad)"
   ]
  },
  {
   "cell_type": "code",
   "execution_count": 6,
   "id": "ff4dd439-0599-4acb-bfee-d9533e5e37af",
   "metadata": {},
   "outputs": [],
   "source": [
    "x1.grad"
   ]
  },
  {
   "cell_type": "code",
   "execution_count": 7,
   "id": "acc6b16a-9f7f-4e9f-82fb-323c24e4829d",
   "metadata": {},
   "outputs": [
    {
     "data": {
      "text/plain": [
       "tensor(0.2837)"
      ]
     },
     "execution_count": 7,
     "metadata": {},
     "output_type": "execute_result"
    }
   ],
   "source": [
    "x2.grad"
   ]
  },
  {
   "cell_type": "code",
   "execution_count": null,
   "id": "9b60d6e8-f106-4296-9975-146fd0c77e12",
   "metadata": {},
   "outputs": [],
   "source": []
  }
 ],
 "metadata": {
  "kernelspec": {
   "display_name": "Python 3 (ipykernel)",
   "language": "python",
   "name": "python3"
  },
  "language_info": {
   "codemirror_mode": {
    "name": "ipython",
    "version": 3
   },
   "file_extension": ".py",
   "mimetype": "text/x-python",
   "name": "python",
   "nbconvert_exporter": "python",
   "pygments_lexer": "ipython3",
   "version": "3.9.7"
  }
 },
 "nbformat": 4,
 "nbformat_minor": 5
}
