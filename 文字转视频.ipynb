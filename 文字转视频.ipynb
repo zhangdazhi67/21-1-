{
 "cells": [
  {
   "cell_type": "code",
   "execution_count": 6,
   "id": "ac8a88ff",
   "metadata": {},
   "outputs": [
    {
     "name": "stdout",
     "output_type": "stream",
     "text": [
      "VideoObject(id='76111732691941576-9202953349495080858', model='cogvideox', video_result=None, task_status='PROCESSING', request_id='-9202953349495080859')\n"
     ]
    }
   ],
   "source": [
    "import time\n",
    "from zhipuai import ZhipuAI\n",
    "\n",
    "client = ZhipuAI(api_key=\"5b8854dadb3ed4721b7e8c40c0328224.N7455hUNWxkq6Zvv\")\n",
    "\n",
    "response = client.videos.generations(\n",
    "    model=\"cogvideox\",\n",
    "    image_url='https://ts1.cn.mm.bing.net/th?id=OIP-C.pqLkf0GpBiULW8Cw5ddLrQHaG2&w=259&h=240&c=8&rs=1&qlt=90&o=6&pid=3.1&rm=2',\n",
    "    prompt=\"旧照片人物变年轻，旧照片人物活跃起来。\"\n",
    ")\n",
    "print(response)\n",
    "\n"
   ]
  },
  {
   "cell_type": "code",
   "execution_count": 7,
   "id": "31854ad8",
   "metadata": {},
   "outputs": [
    {
     "name": "stdout",
     "output_type": "stream",
     "text": [
      "VideoObject(id=None, model='cogvideox', video_result=[VideoResult(url='https://aigc-files.bigmodel.cn/api/cogvideo/f046d72e-ad29-11ef-96bb-e63bd27113c0_0.mp4', cover_image_url='https://aigc-files.bigmodel.cn/api/cogvideo/f046d72e-ad29-11ef-96bb-e63bd27113c0_cover_0.jpeg')], task_status='SUCCESS', request_id='-9202953349495080859')\n"
     ]
    }
   ],
   "source": [
    "# 等待一段时间，比如30秒\n",
    "time.sleep(30)\n",
    "\n",
    "response = client.videos.retrieve_videos_result(\n",
    "    id=\"76111732691941576-9202953349495080858\"\n",
    ")\n",
    "print(response)"
   ]
  },
  {
   "cell_type": "code",
   "execution_count": null,
   "id": "c633ecd1",
   "metadata": {},
   "outputs": [],
   "source": []
  }
 ],
 "metadata": {
  "kernelspec": {
   "display_name": "Python 3 (ipykernel)",
   "language": "python",
   "name": "python3"
  },
  "language_info": {
   "codemirror_mode": {
    "name": "ipython",
    "version": 3
   },
   "file_extension": ".py",
   "mimetype": "text/x-python",
   "name": "python",
   "nbconvert_exporter": "python",
   "pygments_lexer": "ipython3",
   "version": "3.9.7"
  }
 },
 "nbformat": 4,
 "nbformat_minor": 5
}
