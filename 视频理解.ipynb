{
 "cells": [
  {
   "cell_type": "code",
   "execution_count": 13,
   "id": "54af8be6",
   "metadata": {},
   "outputs": [],
   "source": [
    "import os\n",
    "from zhipuai import ZhipuAI\n",
    "import base64\n",
    "\n",
    "os.environ['ZHIPUAI_API_KEY'] = \"d0532f39743d221a7f24332555b9ed2a.s6Xwj9ksw6MaOU39\"\n",
    "\n",
    "client = ZhipuAI()"
   ]
  },
  {
   "cell_type": "code",
   "execution_count": 15,
   "id": "c6378b17",
   "metadata": {},
   "outputs": [
    {
     "name": "stdout",
     "output_type": "stream",
     "text": [
      "通常来说，视频理解的相应时间较长，需要等待十秒....\n",
      "CompletionMessage(content='在视频中，我们看到三只猫在一个郁郁葱葱的绿色草坪上共进晚餐。它们似乎正在享受从同一个碗中吃食物，其中一只猫站在其他两只上面，几乎就像是在保护它的份额。一个年轻的男孩坐在附近的边缘上，看着这些猫。他看起来很放松，只是观察着这些猫。背景是绿色的树叶和草地，营造出一种宁静的氛围。总的来说，这似乎是一个和平的场景，猫和男孩都在享受他们的餐点和大自然中的陪伴。', role='assistant', tool_calls=None)\n"
     ]
    }
   ],
   "source": [
    "video_path = r\"C:\\Users\\admin\\Downloads\\621052207.mp4\"\n",
    "with open(video_path,'rb') as video_file:\n",
    "    video_base = base64.b64encode(video_file.read()).decode('utf-8')\n",
    "    \n",
    "print(\"通常来说，视频理解的相应时间较长，需要等待十秒....\")\n",
    "\n",
    "response = client.chat.completions.create(\n",
    "    model='glm-4v-plus',\n",
    "    temperature=0.0,\n",
    "    top_p=0,\n",
    "\n",
    "    messages=[{\n",
    "        \"role\":\"user\",\n",
    "        \"content\":[{\n",
    "            \"type\":\"video_url\",\n",
    "            \"video_url\":{\"url\":video_base}\n",
    "        },{\n",
    "            \"type\":\"text\",\n",
    "            \"text\":\"请仔细描述这个视频的内容，以有趣的方式讲给我听\"\n",
    "        }]\n",
    "    }]\n",
    ")\n",
    "\n",
    "print(response.choices[0].message)"
   ]
  },
  {
   "cell_type": "code",
   "execution_count": null,
   "id": "0fc3853c",
   "metadata": {},
   "outputs": [],
   "source": []
  }
 ],
 "metadata": {
  "kernelspec": {
   "display_name": "Python 3 (ipykernel)",
   "language": "python",
   "name": "python3"
  },
  "language_info": {
   "codemirror_mode": {
    "name": "ipython",
    "version": 3
   },
   "file_extension": ".py",
   "mimetype": "text/x-python",
   "name": "python",
   "nbconvert_exporter": "python",
   "pygments_lexer": "ipython3",
   "version": "3.9.7"
  }
 },
 "nbformat": 4,
 "nbformat_minor": 5
}
